{
 "cells": [
  {
   "cell_type": "markdown",
   "id": "ef52ce70-a6bb-4938-b946-7d5be0ed441f",
   "metadata": {},
   "source": [
    "Q1) What is Web Scraping? Why is it Used? Give three areas where Web Scraping is used to get data."
   ]
  },
  {
   "cell_type": "markdown",
   "id": "0446f40b-bc15-4892-8f00-e7131c7405c5",
   "metadata": {},
   "source": [
    "Ans) Web scraping is the automated process of extracting data from websites. It involves fetching web pages, parsing the HTML or other structured data on those pages, and extracting specific information for various purposes.\n",
    "\n",
    "    Reasons for Using Web Scraping:\n",
    "\n",
    "    Data Collection and Aggregation:\n",
    "       Market Research: Gathering data for market analysis, pricing, and product information.\n",
    "       Business Intelligence: Collecting competitor information, customer sentiment analysis, and industry trends.\n",
    "       Research and Analysis: Gathering data for academic or research purposes.\n",
    "\n",
    "    Automated Data Retrieval:\n",
    "       Real-Time Information: Retrieving updated information from websites that don't provide APIs or data feeds.\n",
    "       Monitoring: Tracking changes on websites, such as news updates, stock prices, or product availability.\n",
    "\n",
    "    Automation and Integration:\n",
    "       Process Optimization: Automating repetitive tasks like data entry, form filling, or content migration.\n",
    "       Integration: Using scraped data in other applications, databases, or systems for further processing or analysis.\n",
    "\n",
    "    Areas Where Web Scraping is Used:\n",
    "\n",
    "    . E-commerce and Retail:\n",
    "    . Finance and Stock Markets:\n",
    "    . Social Media and Marketing:"
   ]
  },
  {
   "cell_type": "markdown",
   "id": "e07ee884-53d5-4390-9259-767b3bdea561",
   "metadata": {},
   "source": [
    "Q2) What are the different methods used for Web Scraping?"
   ]
  },
  {
   "cell_type": "markdown",
   "id": "a0ce2dd6-cb96-4159-8d9f-3c27d1d6a427",
   "metadata": {},
   "source": [
    "Ans) Web scraping can be performed using various methods and tools, each with its own advantages and suitability for different scenarios. Here are some common methods used for web scraping:\n",
    "\n",
    "    . Using Libraries in Programming Languages\n",
    "    . Browser Extensions\n",
    "    . Headless Browsers\n",
    "    . APIs and Web Scraping Services\n",
    "    . Custom Scripts and Frameworks\n",
    "    . Commercial Scraping Tools"
   ]
  },
  {
   "cell_type": "markdown",
   "id": "c16d4a34-d827-4096-a674-b1da4941cda7",
   "metadata": {},
   "source": [
    "Q3) What is Beautiful Soup? Why is it used?"
   ]
  },
  {
   "cell_type": "markdown",
   "id": "e5cfafe2-176b-4db9-bae5-af4e8e462fd2",
   "metadata": {},
   "source": [
    "Ans) Beautiful Soup is a Python library used for parsing HTML and XML documents. It provides convenient methods and Pythonic idioms for navigating, searching, and manipulating the parsed tree data obtained from web pages.\n",
    "\n",
    "Reasons for Using Beautiful Soup:\n",
    "\n",
    "    . HTML/XML Parsing\n",
    "    . Data Extraction\n",
    "    . Data Cleaning and Formatting\n",
    "    . Integration with Other Libraries\n",
    "    . Ease of Use and Documentation"
   ]
  },
  {
   "cell_type": "markdown",
   "id": "6d754e2c-c13c-4d4d-bcca-080593243d1a",
   "metadata": {},
   "source": [
    "Q4) Why is flask used in this Web Scraping project?"
   ]
  },
  {
   "cell_type": "markdown",
   "id": "ad0b4323-4ac7-48f4-8fcc-59a5ecc2a58f",
   "metadata": {},
   "source": [
    "Ans) Flask can be used in a web scraping project for several reasons:\n",
    "\n",
    "    . API Creation\n",
    "    . Data Presentation\n",
    "    . Integration with Scraping Tools\n",
    "    . Data Storage and Management\n",
    "    . Control and Customization\n",
    "    . Interaction with Frontend Interfaces"
   ]
  },
  {
   "cell_type": "markdown",
   "id": "7cbf3cc7-190c-45a3-98eb-7cbc5efd1e81",
   "metadata": {},
   "source": [
    "Q5) Write the names of AWS services used in this project. Also, explain the use of each service."
   ]
  },
  {
   "cell_type": "markdown",
   "id": "2b4edade-052d-4eb2-804f-5a5039eb5e73",
   "metadata": {},
   "source": [
    "Ans) Amazon EC2: EC2 instances can host the Flask application responsible for web scraping. It provides scalable compute capacity in the cloud, allowing for the deployment of web scraping scripts and Flask applications.\n",
    "\n",
    "Amazon S3:  S3 can store scraped data or other assets like images or documents. It provides highly scalable object storage with options for data retrieval and backup.\n",
    "\n"
   ]
  },
  {
   "cell_type": "code",
   "execution_count": null,
   "id": "0d10e83e-4fac-47a4-9373-67ef7309d847",
   "metadata": {},
   "outputs": [],
   "source": []
  }
 ],
 "metadata": {
  "kernelspec": {
   "display_name": "Python 3 (ipykernel)",
   "language": "python",
   "name": "python3"
  },
  "language_info": {
   "codemirror_mode": {
    "name": "ipython",
    "version": 3
   },
   "file_extension": ".py",
   "mimetype": "text/x-python",
   "name": "python",
   "nbconvert_exporter": "python",
   "pygments_lexer": "ipython3",
   "version": "3.10.8"
  }
 },
 "nbformat": 4,
 "nbformat_minor": 5
}
